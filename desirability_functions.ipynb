{
 "cells": [
  {
   "cell_type": "code",
   "execution_count": 1,
   "id": "19bb832a",
   "metadata": {},
   "outputs": [],
   "source": [
    "import pandas as pd \n",
    "import numpy as np \n",
    "from math import exp\n",
    "import matplotlib\n",
    "import matplotlib.pyplot as plt"
   ]
  },
  {
   "cell_type": "markdown",
   "id": "5e559652",
   "metadata": {},
   "source": [
    "Функция адаптации\n",
    "\n",
    "Нужна для того, чтобы привести все показатели к одному виду - такому, при котором степень их желательности увеличивается вместе с увеличением их значений. Реализовано следующим образом: в выбранных колонках (в тех, в которых степень желательности растет вместе с уменьшением значений) максимальное значение приравнивается к нулю, после чего из максимального значения вычитаются остальные."
   ]
  },
  {
   "cell_type": "code",
   "execution_count": 2,
   "id": "9bd78b4f",
   "metadata": {},
   "outputs": [],
   "source": [
    "def adaptation(table, list):\n",
    "    alternatives = table.values\n",
    "    maximum = np.amax(alternatives, axis = 0)\n",
    "\n",
    "    for i in range(len(list)):\n",
    "        k = list[i]\n",
    "        category = alternatives[:,k]\n",
    "        for j in range(len(category)):\n",
    "            if category[j] < maximum[k]:\n",
    "                category[j] = maximum[k] - category[j]\n",
    "            else:\n",
    "                category[j] = category[j] - maximum[k]\n",
    "        alternatives[:,k] = category\n",
    "\n",
    "    return alternatives"
   ]
  },
  {
   "cell_type": "markdown",
   "id": "a7bfe1d0",
   "metadata": {},
   "source": [
    "Функция масштабирования в диапазоне\n",
    "\n",
    "Нужна для того, чтобы можно было сравнивать данные различных размерностей. Реализовано с помощью формулы масштабирования в диапазоне, в котором a - минимальное значение желаемого диапазона, b - максимальное. "
   ]
  },
  {
   "cell_type": "code",
   "execution_count": 3,
   "id": "736548f0",
   "metadata": {},
   "outputs": [],
   "source": [
    "def scale(alternatives, a, b):\n",
    "    scaling = alternatives.astype(float)\n",
    "\n",
    "    maxval = np.amax(alternatives, axis = 0)\n",
    "    minval = np.amin(alternatives, axis = 0)\n",
    "    for i in range(len(alternatives[1,:])):\n",
    "        category = alternatives[:,i]\n",
    "        for j in range(len(category)):\n",
    "            category[j] = ((((category[j] - minval[i]) * (b - a))) / (maxval[i] - minval[i])) + a\n",
    "        scaling[:,i] = category\n",
    "    \n",
    "    x = np.arange(0, len(scaling[:,1]))\n",
    "    fig, ax = plt.subplots()\n",
    "    \n",
    "    ax.bar(x, scaling[:,-1], color='#00FFF5')\n",
    "    plt.title('scale')\n",
    "    plt.show()\n",
    "\n",
    "    return scaling"
   ]
  },
  {
   "cell_type": "markdown",
   "id": "b87ed218",
   "metadata": {},
   "source": [
    "Функция желательности Макмиллана\n",
    "\n",
    "Для нее как раз и требовалось масштабирование в диапазоне. Реализовано в соответствии с формулой данной функции желательности."
   ]
  },
  {
   "cell_type": "code",
   "execution_count": 4,
   "id": "9d471832",
   "metadata": {},
   "outputs": [],
   "source": [
    "def macmillan(scaling):\n",
    "    macmill = scaling.astype(float)\n",
    "    for i in range(len(macmill[1,:])):\n",
    "        category = macmill[:,i]\n",
    "        for j in range(len(category)):\n",
    "            k = category[j]\n",
    "            category[j] = (exp(-exp(-k)) - exp(-1)) / (1 - exp(-1))\n",
    "            if category[j] < 0:\n",
    "                category[j] = 0\n",
    "        \n",
    "        macmill[:,i] = category\n",
    "    \n",
    "    x = np.arange(0, len(macmill[:,1]))\n",
    "    fig, ax = plt.subplots()\n",
    "    \n",
    "    ax.bar(x, macmill[:,-1], color='#FF00EB')\n",
    "    plt.title('MC')\n",
    "    plt.show()\n",
    "\n",
    "    return macmill"
   ]
  },
  {
   "cell_type": "markdown",
   "id": "4b722ed9",
   "metadata": {},
   "source": [
    "Функция желательности Дерринджера\n",
    "\n",
    "Для нее масштабирование не требуется, оно происходит в процессе расчета самой функции. Реализовано в соответствии с формулой функции желательности Дерринджера, в качестве значений r будет взято три значения от 2 до 4."
   ]
  },
  {
   "cell_type": "code",
   "execution_count": 5,
   "id": "47638767",
   "metadata": {},
   "outputs": [],
   "source": [
    "def derringer(relevant, r):\n",
    "    derr = relevant.astype(float)\n",
    "    print(derr)\n",
    "\n",
    "    maxval = np.amax(derr, axis = 0)\n",
    "    minval = np.amin(derr, axis = 0) \n",
    "    for i in range(len(maxval)):\n",
    "        minval[i] = minval[i] + ((maxval[i] - minval[i]) * 0.15)\n",
    "\n",
    "    \n",
    "    for i in range(len(derr[1,:])):\n",
    "        category = derr[:,i]\n",
    "        for j in range(len(category)):\n",
    "            if category[j] <= minval[i]:\n",
    "                category[j] = 0\n",
    "            elif category[j] < maxval[i]:\n",
    "                category[j] = ((category[j] - minval[i]) / (maxval[i] - minval[i])) ** r\n",
    "            else:\n",
    "                category[j] = 1\n",
    "        \n",
    "        derr[:,i] = category\n",
    "\n",
    "    return derr"
   ]
  },
  {
   "cell_type": "markdown",
   "id": "6edae703",
   "metadata": {},
   "source": [
    "Функция вычисления среднего значения функции желательности Дерринджера"
   ]
  },
  {
   "cell_type": "code",
   "execution_count": 6,
   "id": "7e3a7188",
   "metadata": {},
   "outputs": [],
   "source": [
    "def derrMean(r2, r3, r4):\n",
    "    meanList = []\n",
    "    for i in range(len(r2[:,1])):\n",
    "        meanCategory = []\n",
    "        for j in range(len(r2[1,:])):\n",
    "            meanval = (r2[i, j] + r3[i, j] + r4[i,j]) / 3\n",
    "            meanCategory.append(meanval)\n",
    "        meanList.append(meanCategory)\n",
    "    \n",
    "    means = np.array(meanList)\n",
    "\n",
    "    x = np.arange(0, len(means[:,1]))\n",
    "    y = means[:,-1]\n",
    "    plt.plot(x, y, color='#F6FF00')\n",
    "    plt.xticks(range(0, len(means[:,1])))\n",
    "    plt.title('DR')\n",
    "    plt.show()\n",
    "\n",
    "    return(means)"
   ]
  },
  {
   "cell_type": "markdown",
   "id": "b845a407",
   "metadata": {},
   "source": [
    "Функция расчета коэффициентов категорий с помощью метода анализа иерархий\n",
    "\n",
    "Необходимо для дальнейшей свертки признаков по взвешенному среднему. Приоритетность категорий определяет лицо, принимающее решение."
   ]
  },
  {
   "cell_type": "code",
   "execution_count": 7,
   "id": "0ba6eba0",
   "metadata": {},
   "outputs": [],
   "source": [
    "def weight(list):\n",
    "    i = 0\n",
    "    contrasts = []\n",
    "    while i < (len(list)):\n",
    "        current = list[i]\n",
    "        elem = []\n",
    "        for j in range(len(list)):\n",
    "            contrast = current / list[j]\n",
    "            elem.append(contrast)\n",
    "                \n",
    "        contrasts.append(elem)\n",
    "        i += 1\n",
    "    \n",
    "    contrastArr = np.array(contrasts)\n",
    "    total = contrastArr.sum(axis = 0)\n",
    "\n",
    "    i = 0\n",
    "    adj = []\n",
    "    while i < (len(list)):\n",
    "        elem = []\n",
    "        for j in range(len(contrastArr[i])):\n",
    "            num = contrastArr[i, j] / total[j]\n",
    "            elem.append(num)\n",
    "        \n",
    "        adj.append(elem)\n",
    "        i += 1\n",
    "\n",
    "    adjArr = np.array(adj)\n",
    "    weightes = []\n",
    "    for i in range(len(list)):\n",
    "        roow = adjArr[i]\n",
    "        num = np.mean(roow)\n",
    "        weightes.append(num)\n",
    "    \n",
    "    weightes = np.array(weightes)\n",
    "\n",
    "    return weightes "
   ]
  },
  {
   "cell_type": "markdown",
   "id": "a9bd6cf1",
   "metadata": {},
   "source": [
    "Функция свертки\n",
    "\n",
    "Нужна для выбора лучшей альтернативы из представленных в классе. "
   ]
  },
  {
   "cell_type": "code",
   "execution_count": 8,
   "id": "bb2b51b4",
   "metadata": {},
   "outputs": [],
   "source": [
    "def roll(wantFunc, weightes):\n",
    "    rolled = []\n",
    "    for i in range(len(wantFunc[:,1])):\n",
    "        rolling = []\n",
    "        for j in range(len(weightes)):\n",
    "            num = wantFunc[i][j] * weightes[j]\n",
    "            rolling.append(num)\n",
    "\n",
    "        ocb = sum(rolling)\n",
    "        rolled.append(ocb)\n",
    "\n",
    "    rolled = np.array(rolled)\n",
    "\n",
    "    x = np.arange(0, len(rolled))\n",
    "    fig, ax = plt.subplots()\n",
    "    \n",
    "    ax.bar(x, rolled, color='#78FF00')\n",
    "    plt.title('rolled')\n",
    "    plt.show()\n",
    "\n",
    "    return rolled"
   ]
  },
  {
   "cell_type": "markdown",
   "id": "7d6c6a1d",
   "metadata": {},
   "source": [
    "Функция выбора лучшей альтернативы из представленных в классе \n",
    "\n",
    "Возвращает номер строки той альтернативы, которая является наиболее желательной в данном классе."
   ]
  },
  {
   "cell_type": "code",
   "execution_count": 9,
   "id": "ba0e2ca6",
   "metadata": {},
   "outputs": [],
   "source": [
    "def chooseBest(mcRolled, drRolled, weights, matchTable):\n",
    "    mcBest = mcRolled.argmax()\n",
    "    drBest = drRolled.argmax()\n",
    "\n",
    "    if mcBest == drBest:\n",
    "        best = mcBest\n",
    "    else:\n",
    "        drChoose = []\n",
    "        mcChoose = []\n",
    "        for i in range(len(matchTable[1,:])):\n",
    "            mcNum = matchTable[mcBest, i] * weights[i]\n",
    "            drNum = matchTable[drBest, i] * weights[i]\n",
    "\n",
    "            drChoose.append(drNum)\n",
    "            mcChoose.append(mcNum)\n",
    "        \n",
    "        drSum = sum(drChoose)\n",
    "        mcSum = sum(mcChoose)\n",
    "\n",
    "        if drSum > mcSum:\n",
    "            best = drBest\n",
    "        else: \n",
    "            best = mcBest\n",
    "\n",
    "    return best"
   ]
  },
  {
   "cell_type": "markdown",
   "id": "68cf64ab",
   "metadata": {},
   "source": [
    "Финальная функция, которая использует в себе все написанные выше функции\n",
    "\n",
    "Результатом ее работы является набор значений лучшей альтернативы в каждом классе."
   ]
  },
  {
   "cell_type": "code",
   "execution_count": 10,
   "id": "d0a1ce8d",
   "metadata": {},
   "outputs": [],
   "source": [
    "def bestInClass(path, colsToTransform, importance):\n",
    "\n",
    "    table = pd.read_excel(path, index_col = 0)\n",
    "    adapted = adaptation(table, colsToTransform)\n",
    "    scaled = scale(adapted.copy(), -5, 15)\n",
    "    mcReady = macmillan(scaled)\n",
    "\n",
    "    rTwo = derringer(adapted.copy(), 2)\n",
    "    rThree= derringer(adapted.copy(), 3)\n",
    "    rFour = derringer(adapted.copy(), 4)\n",
    "\n",
    "    drReady = derrMean(rTwo, rThree, rFour)\n",
    "    weightsReady = weight(importance)\n",
    "\n",
    "    rollMc = roll(mcReady, weightsReady.copy())\n",
    "    rollDr = roll(drReady, weightsReady.copy())\n",
    "    \n",
    "    numOfBest = chooseBest(rollMc, rollDr, weightsReady.copy(), adapted.copy())\n",
    "\n",
    "    bestie = table.iloc[numOfBest,:].values\n",
    "\n",
    "    print(bestie)\n",
    "    return bestie"
   ]
  },
  {
   "cell_type": "markdown",
   "id": "106feef5",
   "metadata": {},
   "source": [
    "Стоит отметить, что все происходящее далее может варьироваться в зависимости от задачи. \n",
    "\n",
    "В данном случае задача звучит следующим образом: компания планирует расширять свою деятельность. Расширение заключается в выходе на новый регион для сбыта своей продукции. Помимо расходов на маркетинг, организацию деятельности компании и т.д., необходимо принять решение о выборе стратегии выхода на новый рынок. Под стратегией подразумевается способ обслуживания спроса, который предполагается в этом регионе. Для решения данной задачи предлагается четыре варианта: постройка своего собственного склада, аренда склада, перевозки с помощью транспортной компании и использование услуг логистического посредника. В каждом варианте есть 10 альтернатив - 10 разных предложений, которые компания может рассматривать.\n",
    "\n",
    "Решение необходимо принимать на основании финансовых показателей. \n",
    "\n",
    "Таким образом, необходимо сначала определить наиболее выгодную альтернативу в каждом классе, после чего необходимо будет посчитать расходы за пять лет по каждому классу. Выбранная стратегия будет соотвествовать классу с наименьшими издержками."
   ]
  },
  {
   "cell_type": "code",
   "execution_count": null,
   "id": "b0c763b2",
   "metadata": {
    "scrolled": true
   },
   "outputs": [],
   "source": [
    "arenda = bestInClass('Arenda.xlsx', [0, 3, 4], [4, 3, 2, 1, 5])\n",
    "posrednik = bestInClass('Posrednik.xlsx', [0, 2], [2, 1, 3])\n",
    "sklad = bestInClass('Sklad.xlsx', [0, 2, 3], [2, 1, 3, 4])\n",
    "tc = bestInClass('TC.xlsx', [0, 2, 3], [3, 1, 2, 4])"
   ]
  },
  {
   "cell_type": "code",
   "execution_count": null,
   "id": "c16d7575",
   "metadata": {},
   "outputs": [],
   "source": [
    "volume = 67400 #объем перевозок\n",
    "extra = 0.05 #% объема экстренных поставок\n",
    "\n",
    "extraVolume = volume * extra\n",
    "basicVolume = volume - extraVolume"
   ]
  },
  {
   "cell_type": "code",
   "execution_count": null,
   "id": "e66d7256",
   "metadata": {},
   "outputs": [],
   "source": [
    "finArenda = [arenda[0] * 5, arenda[3] * 5, arenda[4] * 5]\n",
    "finPosrednik = [posrednik[0] * 5, posrednik[2] * 5]\n",
    "finSklad = [sklad[0], sklad[2], sklad[3] * 5]\n",
    "finTc = [tc[0] * basicVolume * 5, tc[2] * extraVolume * 5, tc[3] * 5 ]\n",
    "\n",
    "costsList = [sum(finArenda), sum(finPosrednik), sum(finSklad), sum(finTc)]\n",
    "\n",
    "theBest = min(costsList)\n",
    "bestIndex = costsList.index(theBest)"
   ]
  },
  {
   "cell_type": "code",
   "execution_count": null,
   "id": "a4ee809c",
   "metadata": {},
   "outputs": [],
   "source": [
    "if bestIndex == 0:\n",
    "    name = 'Arenda'\n",
    "elif bestIndex == 1:\n",
    "    name = 'Posrednik'\n",
    "elif bestIndex == 2:\n",
    "    name = 'Sklad'\n",
    "else:\n",
    "    name = 'TC'\n",
    "\n",
    "print(f'The best alternative is {name}, total costs for 5 years: {theBest}')"
   ]
  }
 ],
 "metadata": {
  "kernelspec": {
   "display_name": "Python 3 (ipykernel)",
   "language": "python",
   "name": "python3"
  },
  "language_info": {
   "codemirror_mode": {
    "name": "ipython",
    "version": 3
   },
   "file_extension": ".py",
   "mimetype": "text/x-python",
   "name": "python",
   "nbconvert_exporter": "python",
   "pygments_lexer": "ipython3",
   "version": "3.8.10"
  }
 },
 "nbformat": 4,
 "nbformat_minor": 5
}
